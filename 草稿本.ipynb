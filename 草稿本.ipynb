{
 "cells": [
  {
   "cell_type": "code",
   "execution_count": 1,
   "metadata": {},
   "outputs": [],
   "source": [
    "import pandas as pd\n",
    "import numpy as np"
   ]
  },
  {
   "cell_type": "code",
   "execution_count": 11,
   "metadata": {},
   "outputs": [
    {
     "name": "stdout",
     "output_type": "stream",
     "text": [
      "          0         1         2         3         4\n",
      "0 -1.652732 -1.412776  0.867011  0.005395 -0.177654\n",
      "1  0.771347 -0.000647  0.165995  1.515457 -0.970186\n",
      "2  1.477174  0.524461  1.327075  1.268351  0.391915\n",
      "3 -0.609108 -0.235792 -0.524116 -1.635046 -0.127670\n",
      "4 -1.884505 -2.270891  1.357767  0.820309 -0.252059\n"
     ]
    }
   ],
   "source": [
    "# 随机生成五个序列\n",
    "s1 = pd.Series(np.random.randn(5))\n",
    "s2 = pd.Series(np.random.randn(5))\n",
    "s3 = pd.Series(np.random.randn(5))\n",
    "s4 = pd.Series(np.random.randn(5))\n",
    "s5 = pd.Series(np.random.randn(5))\n",
    "# 将五个序列合并为一个数据框\n",
    "df = pd.DataFrame([s1.T, s2.T, s3.T, s4.T, s5.T])\n",
    "print(df)"
   ]
  },
  {
   "cell_type": "code",
   "execution_count": 12,
   "metadata": {},
   "outputs": [],
   "source": [
    "# 重命名\n",
    "df.rename(columns={0: 'A', 1: 'B', 2: 'C', 3: 'D', 4: 'E'}, inplace=True)"
   ]
  },
  {
   "cell_type": "code",
   "execution_count": 13,
   "metadata": {},
   "outputs": [
    {
     "data": {
      "text/html": [
       "<div>\n",
       "<style scoped>\n",
       "    .dataframe tbody tr th:only-of-type {\n",
       "        vertical-align: middle;\n",
       "    }\n",
       "\n",
       "    .dataframe tbody tr th {\n",
       "        vertical-align: top;\n",
       "    }\n",
       "\n",
       "    .dataframe thead th {\n",
       "        text-align: right;\n",
       "    }\n",
       "</style>\n",
       "<table border=\"1\" class=\"dataframe\">\n",
       "  <thead>\n",
       "    <tr style=\"text-align: right;\">\n",
       "      <th></th>\n",
       "      <th>A</th>\n",
       "      <th>B</th>\n",
       "      <th>C</th>\n",
       "      <th>D</th>\n",
       "      <th>E</th>\n",
       "    </tr>\n",
       "  </thead>\n",
       "  <tbody>\n",
       "    <tr>\n",
       "      <th>0</th>\n",
       "      <td>-1.652732</td>\n",
       "      <td>-1.412776</td>\n",
       "      <td>0.867011</td>\n",
       "      <td>0.005395</td>\n",
       "      <td>-0.177654</td>\n",
       "    </tr>\n",
       "    <tr>\n",
       "      <th>1</th>\n",
       "      <td>0.771347</td>\n",
       "      <td>-0.000647</td>\n",
       "      <td>0.165995</td>\n",
       "      <td>1.515457</td>\n",
       "      <td>-0.970186</td>\n",
       "    </tr>\n",
       "    <tr>\n",
       "      <th>2</th>\n",
       "      <td>1.477174</td>\n",
       "      <td>0.524461</td>\n",
       "      <td>1.327075</td>\n",
       "      <td>1.268351</td>\n",
       "      <td>0.391915</td>\n",
       "    </tr>\n",
       "    <tr>\n",
       "      <th>3</th>\n",
       "      <td>-0.609108</td>\n",
       "      <td>-0.235792</td>\n",
       "      <td>-0.524116</td>\n",
       "      <td>-1.635046</td>\n",
       "      <td>-0.127670</td>\n",
       "    </tr>\n",
       "    <tr>\n",
       "      <th>4</th>\n",
       "      <td>-1.884505</td>\n",
       "      <td>-2.270891</td>\n",
       "      <td>1.357767</td>\n",
       "      <td>0.820309</td>\n",
       "      <td>-0.252059</td>\n",
       "    </tr>\n",
       "  </tbody>\n",
       "</table>\n",
       "</div>"
      ],
      "text/plain": [
       "          A         B         C         D         E\n",
       "0 -1.652732 -1.412776  0.867011  0.005395 -0.177654\n",
       "1  0.771347 -0.000647  0.165995  1.515457 -0.970186\n",
       "2  1.477174  0.524461  1.327075  1.268351  0.391915\n",
       "3 -0.609108 -0.235792 -0.524116 -1.635046 -0.127670\n",
       "4 -1.884505 -2.270891  1.357767  0.820309 -0.252059"
      ]
     },
     "execution_count": 13,
     "metadata": {},
     "output_type": "execute_result"
    }
   ],
   "source": [
    "df"
   ]
  }
 ],
 "metadata": {
  "kernelspec": {
   "display_name": "base",
   "language": "python",
   "name": "python3"
  },
  "language_info": {
   "codemirror_mode": {
    "name": "ipython",
    "version": 3
   },
   "file_extension": ".py",
   "mimetype": "text/x-python",
   "name": "python",
   "nbconvert_exporter": "python",
   "pygments_lexer": "ipython3",
   "version": "3.9.7"
  },
  "orig_nbformat": 4
 },
 "nbformat": 4,
 "nbformat_minor": 2
}
