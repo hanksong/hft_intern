{
 "cells": [
  {
   "cell_type": "code",
   "execution_count": null,
   "metadata": {},
   "outputs": [],
   "source": [
    "# 获取价格\n",
    "# 获取token的address\n",
    "token_list = ['ETH',\"WBTC\",\"USDC.e\"]\n",
    "address_list = [x for x in symbol.index if symbol.loc[x,'data.symbol'] in token_list]\n",
    "prc = {}\n",
    "\n",
    "for address in address_list:\n",
    "  query = f'''query {{\n",
    "    fastPrices(token: \"{address}\", first: 1000, orderBy: id, orderDirection: desc, timestamp_gt: 0, timestamp_lt: 1801001000, where: {{period: \"hourly\"}}) {{\n",
    "      id\n",
    "      token\n",
    "      value\n",
    "      period\n",
    "      timestamp\n",
    "    }}\n",
    "  }}'''\n",
    "  url = 'https://subgraph.satsuma-prod.com/3b2ced13c8d9/gmx/gmx-arbitrum-stats/api'\n",
    "  headers = {'Content-Type': 'application/json'}\n",
    "  request_json = {'query': query}\n",
    "  response = requests.post(url, headers=headers, data=json.dumps(request_json))\n",
    "  price_data = response.json()\n",
    "  if 'errors' in price_data:\n",
    "      error_message = price_data['errors'][0]['message']\n",
    "      raise Exception(f\"GraphQL query failed: {error_message}\")\n",
    "  price_data = price_data['data']['fastPrices']\n",
    "  price_data = pd.DataFrame(price_data)\n",
    "  data['time'] = pd.to_datetime(price_data['timestamp'], unit='s')\n",
    "  # 生成token对应的名字\n",
    "  price_data['token'] = price_data['token'].apply(lambda x: symbol.loc[x]['data.symbol'])\n",
    "  price_data['value'] = price_data['value'].astype(float) / 10**30\n",
    "  token_name = symbol.loc[address]['data.symbol']\n",
    "  prc[token_name] = price_data"
   ]
  }
 ],
 "metadata": {
  "language_info": {
   "name": "python"
  },
  "orig_nbformat": 4
 },
 "nbformat": 4,
 "nbformat_minor": 2
}
