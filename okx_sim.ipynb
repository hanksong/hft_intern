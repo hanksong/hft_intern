{
 "cells": [
  {
   "cell_type": "markdown",
   "metadata": {},
   "source": [
    "API document :https://www.okx.com/docs-v5/zh/"
   ]
  },
  {
   "cell_type": "markdown",
   "metadata": {},
   "source": [
    "# login"
   ]
  },
  {
   "cell_type": "code",
   "execution_count": 8,
   "metadata": {},
   "outputs": [
    {
     "name": "stdout",
     "output_type": "stream",
     "text": [
      "{'code': '0', 'data': [{'adjEq': '', 'borrowFroz': '', 'details': [{'availBal': '3', 'availEq': '3', 'borrowFroz': '', 'cashBal': '3', 'ccy': 'BTC', 'crossLiab': '', 'disEq': '87431.1', 'eq': '3', 'eqUsd': '87431.1', 'fixedBal': '0', 'frozenBal': '0', 'interest': '', 'isoEq': '0', 'isoLiab': '', 'isoUpl': '0', 'liab': '', 'maxLoan': '', 'mgnRatio': '', 'notionalLever': '0', 'ordFrozen': '0', 'spotInUseAmt': '', 'stgyEq': '0', 'twap': '0', 'uTime': '1689920148261', 'upl': '0', 'uplLiab': ''}], 'imr': '', 'isoEq': '0', 'mgnRatio': '', 'mmr': '', 'notionalUsd': '', 'ordFroz': '', 'totalEq': '200214.98094628163', 'uTime': '1692180134586'}], 'msg': ''}\n"
     ]
    }
   ],
   "source": [
    "import time\n",
    "import hashlib\n",
    "import hmac\n",
    "import base64\n",
    "import requests\n",
    "\n",
    "# API Key\n",
    "api_key = '2058556c-396b-4008-891a-2337479ebd17'\n",
    "api_secret = '74F25F2339A75B49B3B241505D184907'\n",
    "api_passphrase = 'SC5JuSNhP2UybyD!'\n",
    "\n",
    "proxy = {'http': 'http://127.0.0.1:10809', 'https': 'http://127.0.0.1:10809'}# 代理ip\n",
    "# Request parameters\n",
    "method = 'GET'\n",
    "request_path = '/api/v5/account/balance?ccy=BTC'\n",
    "timestamp = time.strftime('%Y-%m-%dT%H:%M:%S.000Z', time.gmtime())\n",
    "body = ''  # For GET requests, the body is empty\n",
    "\n",
    "# Construct the prehash string\n",
    "prehash_string = timestamp + method + request_path + body\n",
    "message = prehash_string.encode('utf-8')\n",
    "\n",
    "# Generate the signature\n",
    "signature = base64.b64encode(hmac.new(api_secret.encode('utf-8'), message, hashlib.sha256).digest())\n",
    "\n",
    "# Construct the headers\n",
    "headers = {\n",
    "    'OK-ACCESS-KEY': api_key,\n",
    "    'OK-ACCESS-SIGN': signature.decode('utf-8'),\n",
    "    'OK-ACCESS-TIMESTAMP': timestamp,\n",
    "    'OK-ACCESS-PASSPHRASE': api_passphrase,\n",
    "    \"x-simulated-trading\": \"1\"\n",
    "}\n",
    "\n",
    "# API endpoint\n",
    "base_url = 'https://www.okex.com'  # Update with the actual URL\n",
    "url = base_url + request_path\n",
    "\n",
    "# Send the request\n",
    "response = requests.get(url, headers=headers, proxies=proxy)\n",
    "data = response.json()\n",
    "\n",
    "print(data)\n"
   ]
  },
  {
   "cell_type": "code",
   "execution_count": 7,
   "metadata": {},
   "outputs": [
    {
     "name": "stdout",
     "output_type": "stream",
     "text": [
      "Currency: BTC\n",
      "Available Balance: 3\n",
      "Available Equivalent Balance: 3\n",
      "Cash Balance: 3\n",
      "Equivalent Balance in USD: 87407.4\n",
      "------\n"
     ]
    }
   ],
   "source": [
    "response_data = data\n",
    "\n",
    "# Extract and print account balance information\n",
    "for currency_info in response_data['data'][0]['details']:\n",
    "    currency_code = currency_info['ccy']\n",
    "    avail_bal = currency_info['availBal']\n",
    "    avail_eq = currency_info['availEq']\n",
    "    cash_bal = currency_info['cashBal']\n",
    "    eq_usd = currency_info['eqUsd']\n",
    "\n",
    "    print(f\"Currency: {currency_code}\")\n",
    "    print(f\"Available Balance: {avail_bal}\")\n",
    "    print(f\"Available Equivalent Balance: {avail_eq}\")\n",
    "    print(f\"Cash Balance: {cash_bal}\")\n",
    "    print(f\"Equivalent Balance in USD: {eq_usd}\")\n",
    "    print(\"------\")\n"
   ]
  },
  {
   "cell_type": "markdown",
   "metadata": {},
   "source": [
    "https://www.okx.com/cn/learn/derivatives-trading-with-jupyter-notebook"
   ]
  }
 ],
 "metadata": {
  "kernelspec": {
   "display_name": "base",
   "language": "python",
   "name": "python3"
  },
  "language_info": {
   "codemirror_mode": {
    "name": "ipython",
    "version": 3
   },
   "file_extension": ".py",
   "mimetype": "text/x-python",
   "name": "python",
   "nbconvert_exporter": "python",
   "pygments_lexer": "ipython3",
   "version": "3.9.7"
  },
  "orig_nbformat": 4
 },
 "nbformat": 4,
 "nbformat_minor": 2
}
